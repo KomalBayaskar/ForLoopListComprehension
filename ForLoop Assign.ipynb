{
 "cells": [
  {
   "cell_type": "code",
   "execution_count": 2,
   "id": "2f675380-9a18-44c6-a282-013e6b75bf53",
   "metadata": {},
   "outputs": [
    {
     "name": "stdout",
     "output_type": "stream",
     "text": [
      "1\n",
      "2\n",
      "3\n",
      "4\n",
      "5\n",
      "6\n",
      "7\n",
      "8\n",
      "9\n",
      "10\n"
     ]
    }
   ],
   "source": [
    "# Write a Python program to print the numbers from 1 to 10 using a `for` loop.\n",
    "for i in range(1, 11):\n",
    "    print(i)"
   ]
  },
  {
   "cell_type": "code",
   "execution_count": 4,
   "id": "15ea9f2e-e0b9-4d3b-b136-03acd040783c",
   "metadata": {},
   "outputs": [
    {
     "name": "stdout",
     "output_type": "stream",
     "text": [
      "The sum of all numbers in the list is: 35\n"
     ]
    }
   ],
   "source": [
    "# Create a program that calculates the sum of all numbers in a list using a `for` loop.\n",
    "numbers = [2,8,9,5,4,7]\n",
    "total_sum = 0\n",
    "for number in numbers:\n",
    "    total_sum += number\n",
    "print(\"The sum of all numbers in the list is:\", total_sum)\n"
   ]
  },
  {
   "cell_type": "code",
   "execution_count": 7,
   "id": "a4a042b0-4c79-4439-89f9-51d49a4d953e",
   "metadata": {},
   "outputs": [
    {
     "name": "stdout",
     "output_type": "stream",
     "text": [
      "!dlroW WP ,olleH\n"
     ]
    }
   ],
   "source": [
    "# Write a program to print the characters of a string in reverse order using a `for` loop.\n",
    "input_string = \"Hello, PW World!\"\n",
    "\n",
    "length_of_string = len(input_string)\n",
    "\n",
    "for i in range(length_of_string - 1, -1, -1):\n",
    "    print(input_string[i], end='')\n",
    "\n",
    "print()  "
   ]
  },
  {
   "cell_type": "code",
   "execution_count": 9,
   "id": "7cd8c343-472e-4e46-b246-72a122e74e84",
   "metadata": {},
   "outputs": [
    {
     "name": "stdin",
     "output_type": "stream",
     "text": [
      "Enter a number to find its factorial:  5\n"
     ]
    },
    {
     "name": "stdout",
     "output_type": "stream",
     "text": [
      "The factorial of 5 is: 120\n"
     ]
    }
   ],
   "source": [
    "# Develop a program that finds the factorial of a given number using a `for` loop.\n",
    "\n",
    "def factorial(n):\n",
    "    result = 1\n",
    "    \n",
    "    for i in range(1, n + 1):\n",
    "        result *= i\n",
    "        \n",
    "    return result\n",
    "\n",
    "number = int(input(\"Enter a number to find its factorial: \"))\n",
    "\n",
    "factorial_result = factorial(number)\n",
    "\n",
    "print(f\"The factorial of {number} is: {factorial_result}\")\n"
   ]
  },
  {
   "cell_type": "code",
   "execution_count": 10,
   "id": "91b7d91c-eff3-4fbb-970f-94e47f246d69",
   "metadata": {},
   "outputs": [
    {
     "name": "stdin",
     "output_type": "stream",
     "text": [
      "Enter a number to print its multiplication table:  5\n"
     ]
    },
    {
     "name": "stdout",
     "output_type": "stream",
     "text": [
      "5 x 1 = 5\n",
      "5 x 2 = 10\n",
      "5 x 3 = 15\n",
      "5 x 4 = 20\n",
      "5 x 5 = 25\n",
      "5 x 6 = 30\n",
      "5 x 7 = 35\n",
      "5 x 8 = 40\n",
      "5 x 9 = 45\n",
      "5 x 10 = 50\n"
     ]
    }
   ],
   "source": [
    "# Create a program to print the multiplication table of a given number using a `for` loop.\n",
    "\n",
    "def print_multiplication_table(n):\n",
    "    for i in range(1, 11):\n",
    "        print(f\"{n} x {i} = {n * i}\")\n",
    "\n",
    "number = int(input(\"Enter a number to print its multiplication table: \"))\n",
    "\n",
    "print_multiplication_table(number)\n"
   ]
  },
  {
   "cell_type": "code",
   "execution_count": 12,
   "id": "f5c42b4e-8546-4cd3-a0a1-e91a12448bf7",
   "metadata": {},
   "outputs": [
    {
     "name": "stdout",
     "output_type": "stream",
     "text": [
      "Number of even numbers: 5\n",
      "Number of odd numbers: 4\n"
     ]
    }
   ],
   "source": [
    "# Write a program that counts the number of even and odd numbers in a list using a `for` loop.\n",
    "\n",
    "numbers = [1, 2, 3, 4, 5, 6, 7, 8, 8]\n",
    "\n",
    "count_even = 0\n",
    "count_odd = 0\n",
    "\n",
    "for number in numbers:\n",
    "    if number % 2 == 0:\n",
    "        count_even += 1\n",
    "    else:\n",
    "        count_odd += 1\n",
    "\n",
    "# Print the counts\n",
    "print(f\"Number of even numbers: {count_even}\")\n",
    "print(f\"Number of odd numbers: {count_odd}\")\n"
   ]
  },
  {
   "cell_type": "code",
   "execution_count": 15,
   "id": "b07cdd19-d346-4098-b421-3367aa234552",
   "metadata": {},
   "outputs": [
    {
     "name": "stdout",
     "output_type": "stream",
     "text": [
      "The square of 1 is 1\n",
      "The square of 2 is 4\n",
      "The square of 3 is 9\n",
      "The square of 4 is 16\n",
      "The square of 5 is 25\n"
     ]
    }
   ],
   "source": [
    "# Develop a program that prints the squares of numbers from 1 to 5 using a `for` loop.\n",
    "\n",
    "\n",
    "for i in range(1, 6):\n",
    "    square = i * i\n",
    "    # Print the square\n",
    "    print(f\"The square of {i} is {square}\")\n",
    "\n"
   ]
  },
  {
   "cell_type": "code",
   "execution_count": 16,
   "id": "84c1d8dd-eb59-4e7b-97de-986e52d71cfa",
   "metadata": {},
   "outputs": [
    {
     "name": "stdin",
     "output_type": "stream",
     "text": [
      "Enter a string:  hello Pwskills ineuron\n"
     ]
    },
    {
     "name": "stdout",
     "output_type": "stream",
     "text": [
      "The length of the string is: 22\n"
     ]
    }
   ],
   "source": [
    "# Create a program to find the length of a string without using the `len()` function.\n",
    "\n",
    "def string_length(s):\n",
    "    count = 0\n",
    "    for char in s:\n",
    "        count += 1\n",
    "    return count\n",
    "\n",
    "# Input: A string\n",
    "input_string = input(\"Enter a string: \")\n",
    "\n",
    "length = string_length(input_string)\n",
    "\n",
    "# Print the length of the string\n",
    "print(f\"The length of the string is: {length}\")\n"
   ]
  },
  {
   "cell_type": "code",
   "execution_count": 19,
   "id": "33ee01e8-1443-4de2-8713-af1c16e45eb5",
   "metadata": {},
   "outputs": [
    {
     "name": "stdout",
     "output_type": "stream",
     "text": [
      "The average of the list is: 5.0\n"
     ]
    }
   ],
   "source": [
    "# Write a program that calculates the average of a list of numbers using a `for` loop.\n",
    "\n",
    "def calculate_average(numbers):\n",
    "    total_sum = 0\n",
    "    count = 0\n",
    "    \n",
    "    for number in numbers:\n",
    "        total_sum += number\n",
    "        count += 1\n",
    "    \n",
    "    if count == 0:\n",
    "        return 0  \n",
    "    average = total_sum / count\n",
    "    \n",
    "    return average\n",
    "\n",
    "# Sample list of numbers\n",
    "numbers = [2,4,8,5,6]\n",
    "\n",
    "# Calculate the average using the function\n",
    "average = calculate_average(numbers)\n",
    "\n",
    "# Print the average\n",
    "print(f\"The average of the list is: {average}\")\n"
   ]
  },
  {
   "cell_type": "code",
   "execution_count": 21,
   "id": "ce224b2d-0129-4ee9-997e-4bd2ee3eb02e",
   "metadata": {},
   "outputs": [
    {
     "name": "stdin",
     "output_type": "stream",
     "text": [
      "Enter the number of Fibonacci numbers to print:  8\n"
     ]
    },
    {
     "name": "stdout",
     "output_type": "stream",
     "text": [
      "The first 8 Fibonacci numbers are:\n",
      "0\n",
      "1\n",
      "1\n",
      "2\n",
      "3\n",
      "5\n",
      "8\n",
      "13\n"
     ]
    }
   ],
   "source": [
    "# Develop a program that prints the first `n` Fibonacci numbers using a `for` loop.\n",
    "\n",
    "def fibonacci(n):\n",
    "    fib_sequence = []\n",
    "    a, b = 0, 1\n",
    "    \n",
    "    for _ in range(n):\n",
    "        fib_sequence.append(a)\n",
    "        a, b = b, a + b\n",
    "    \n",
    "    return fib_sequence\n",
    "\n",
    "n = int(input(\"Enter the number of Fibonacci numbers to print: \"))\n",
    "\n",
    "fib_numbers = fibonacci(n)\n",
    "\n",
    "print(f\"The first {n} Fibonacci numbers are:\")\n",
    "for num in fib_numbers:\n",
    "    print(num)\n"
   ]
  },
  {
   "cell_type": "code",
   "execution_count": 23,
   "id": "d43fae41-bb11-4fae-a2de-3900ecbde228",
   "metadata": {},
   "outputs": [
    {
     "name": "stdout",
     "output_type": "stream",
     "text": [
      "The list contains duplicates.\n"
     ]
    }
   ],
   "source": [
    "# Write a program to check if a given list contains any duplicates using a `for` loop.\n",
    "\n",
    "def has_duplicates(input_list):\n",
    "    seen = set()\n",
    "    for item in input_list:\n",
    "        if item in seen:\n",
    "            return True\n",
    "        seen.add(item)\n",
    "    return False\n",
    "\n",
    "my_list = [1, 2, 3, 4, 5, 6, 7, 7, 9, 10]\n",
    "\n",
    "if has_duplicates(my_list):\n",
    "    print(\"The list contains duplicates.\")\n",
    "else:\n",
    "    print(\"The list does not contain duplicates.\")\n"
   ]
  },
  {
   "cell_type": "code",
   "execution_count": 25,
   "id": "77bbdcec-3db1-4f85-8b90-7195ca6daa66",
   "metadata": {},
   "outputs": [
    {
     "name": "stdin",
     "output_type": "stream",
     "text": [
      "Enter the start of the range:  1\n",
      "Enter the end of the range:  10\n"
     ]
    },
    {
     "name": "stdout",
     "output_type": "stream",
     "text": [
      "Prime numbers between 1 and 10 are:\n",
      "2\n",
      "3\n",
      "5\n",
      "7\n"
     ]
    }
   ],
   "source": [
    "# Create a program that prints the prime numbers in a given range using a `for` loop.\n",
    "\n",
    "def is_prime(num):\n",
    "    if num <= 1:\n",
    "        return False\n",
    "    for i in range(2, int(num**0.5) + 1):\n",
    "        if num % i == 0:\n",
    "            return False\n",
    "    return True\n",
    "\n",
    "start = int(input(\"Enter the start of the range: \"))\n",
    "end = int(input(\"Enter the end of the range: \"))\n",
    "\n",
    "print(f\"Prime numbers between {start} and {end} are:\")\n",
    "for num in range(start, end + 1):\n",
    "    if is_prime(num):\n",
    "        print(num)\n"
   ]
  },
  {
   "cell_type": "code",
   "execution_count": 26,
   "id": "e827889f-0f07-48bc-a350-d3ffb34f3dd4",
   "metadata": {},
   "outputs": [
    {
     "name": "stdin",
     "output_type": "stream",
     "text": [
      "Enter a string:  welcome to pwskills\n"
     ]
    },
    {
     "name": "stdout",
     "output_type": "stream",
     "text": [
      "The number of vowels in the string is: 5\n"
     ]
    }
   ],
   "source": [
    "# Develop a program that counts the number of vowels in a string using a `for` loop.\n",
    "\n",
    "def count_vowels(input_string):\n",
    "    vowels = \"aeiouAEIOU\"\n",
    "    count = 0\n",
    "    \n",
    "    for char in input_string:\n",
    "        if char in vowels:\n",
    "            count += 1\n",
    "    \n",
    "    return count\n",
    "\n",
    "input_string = input(\"Enter a string: \")\n",
    "\n",
    "vowel_count = count_vowels(input_string)\n",
    "\n",
    "print(f\"The number of vowels in the string is: {vowel_count}\")\n"
   ]
  },
  {
   "cell_type": "code",
   "execution_count": 29,
   "id": "f7002041-a54a-41ee-9049-645bf1b8d1b8",
   "metadata": {},
   "outputs": [
    {
     "name": "stdout",
     "output_type": "stream",
     "text": [
      "The maximum element in the 2D list is: 36\n"
     ]
    }
   ],
   "source": [
    "# Write a program to find the maximum element in a 2D list using a nested `for` loop.\n",
    "\n",
    "matrix = [\n",
    "    [1, 2, 3],\n",
    "    [4, 36, 6],\n",
    "    [7, 8, 36]\n",
    "]\n",
    "\n",
    "def find_max_2d(matrix):\n",
    "    max_element = matrix[0][0] \n",
    "    for row in matrix:\n",
    "        for element in row:\n",
    "            if element > max_element:\n",
    "                max_element = element\n",
    "    \n",
    "    return max_element\n",
    "\n",
    "max_element = find_max_2d(matrix)\n",
    "\n",
    "print(f\"The maximum element in the 2D list is: {max_element}\")\n"
   ]
  },
  {
   "cell_type": "code",
   "execution_count": 32,
   "id": "64e63be7-6bfd-4e96-a4c6-031c5c005050",
   "metadata": {},
   "outputs": [
    {
     "name": "stdout",
     "output_type": "stream",
     "text": [
      "List after removing all occurrences of 2 : [1, 3, 4, 5, 6, 7]\n"
     ]
    }
   ],
   "source": [
    "# Create a program that removes all occurrences of a specific element from a list using a `for` loop.\n",
    "\n",
    "def remove_element(input_list, element):\n",
    "    for i in range(len(input_list) - 1, -1, -1):\n",
    "        if input_list[i] == element:\n",
    "            del input_list[i]\n",
    "\n",
    "my_list = [1, 2, 3, 4, 2, 5, 2, 6, 7, 2]\n",
    "\n",
    "element_to_remove = 2\n",
    "\n",
    "remove_element(my_list, element_to_remove)\n",
    "\n",
    "print(\"List after removing all occurrences of\", element_to_remove, \":\", my_list)\n"
   ]
  },
  {
   "cell_type": "code",
   "execution_count": 35,
   "id": "4d1532f1-1157-44fb-8af9-b3d562804043",
   "metadata": {},
   "outputs": [
    {
     "name": "stdout",
     "output_type": "stream",
     "text": [
      "Multiplication table for 2:\n",
      "2 x 1 = 2\n",
      "2 x 2 = 4\n",
      "2 x 3 = 6\n",
      "2 x 4 = 8\n",
      "2 x 5 = 10\n",
      "2 x 6 = 12\n",
      "2 x 7 = 14\n",
      "2 x 8 = 16\n",
      "2 x 9 = 18\n",
      "2 x 10 = 20\n",
      "\n",
      "Multiplication table for 3:\n",
      "3 x 1 = 3\n",
      "3 x 2 = 6\n",
      "3 x 3 = 9\n",
      "3 x 4 = 12\n",
      "3 x 5 = 15\n",
      "3 x 6 = 18\n",
      "3 x 7 = 21\n",
      "3 x 8 = 24\n",
      "3 x 9 = 27\n",
      "3 x 10 = 30\n",
      "\n",
      "Multiplication table for 4:\n",
      "4 x 1 = 4\n",
      "4 x 2 = 8\n",
      "4 x 3 = 12\n",
      "4 x 4 = 16\n",
      "4 x 5 = 20\n",
      "4 x 6 = 24\n",
      "4 x 7 = 28\n",
      "4 x 8 = 32\n",
      "4 x 9 = 36\n",
      "4 x 10 = 40\n",
      "\n"
     ]
    }
   ],
   "source": [
    "# Develop a program that generates a multiplication table for numbers from 1 to 5 using a nested `for` loop.\n",
    "\n",
    "start = 2\n",
    "end = 4\n",
    "\n",
    "for i in range(start, end + 1):\n",
    "    print(f\"Multiplication table for {i}:\")\n",
    "    \n",
    "    for j in range(1, 11):\n",
    "        result = i * j\n",
    "        print(f\"{i} x {j} = {result}\")\n",
    "    \n",
    "    print()\n"
   ]
  },
  {
   "cell_type": "code",
   "execution_count": 36,
   "id": "0e256820-2067-4dfb-b1db-8da1fb2629b8",
   "metadata": {},
   "outputs": [
    {
     "name": "stdout",
     "output_type": "stream",
     "text": [
      "Fahrenheit Temperatures: [32, 68, 86, 104, 122]\n",
      "Celsius Temperatures: [0.0, 20.0, 30.0, 40.0, 50.0]\n"
     ]
    }
   ],
   "source": [
    "# Write a program that converts a list of Fahrenheit temperatures to Celsius using a `for` loop.\n",
    "\n",
    "def fahrenheit_to_celsius(fahrenheit):\n",
    "    return (fahrenheit - 32) * 5 / 9\n",
    "\n",
    "fahrenheit_temperatures = [32, 68, 86, 104, 122]\n",
    "\n",
    "celsius_temperatures = []\n",
    "for temp in fahrenheit_temperatures:\n",
    "    celsius = fahrenheit_to_celsius(temp)\n",
    "    celsius_temperatures.append(celsius)\n",
    "\n",
    "print(\"Fahrenheit Temperatures:\", fahrenheit_temperatures)\n",
    "print(\"Celsius Temperatures:\", celsius_temperatures)\n"
   ]
  },
  {
   "cell_type": "code",
   "execution_count": 39,
   "id": "49d2f199-49d0-44d1-b09c-c74d52049e32",
   "metadata": {},
   "outputs": [
    {
     "name": "stdout",
     "output_type": "stream",
     "text": [
      "Common elements: [4, 5]\n"
     ]
    }
   ],
   "source": [
    "# Create a program to print the common elements from two lists using a `for` loop.\n",
    "\n",
    "def find_common_elements(list1, list2):\n",
    "    common_elements = []\n",
    "    \n",
    "    for element in list1:\n",
    "        if element in list2 and element not in common_elements:\n",
    "            common_elements.append(element)\n",
    "    \n",
    "    return common_elements\n",
    "\n",
    "list1 = [1, 2, 3, 4, 5]\n",
    "list2 = [4, 5, 6, 7, 8]\n",
    "\n",
    "common_elements = find_common_elements(list1, list2)\n",
    "\n",
    "print(\"Common elements:\", common_elements)\n"
   ]
  },
  {
   "cell_type": "code",
   "execution_count": 40,
   "id": "a53de3b0-635a-464a-99ac-20dbb779d555",
   "metadata": {},
   "outputs": [
    {
     "name": "stdin",
     "output_type": "stream",
     "text": [
      "Enter the height of the triangle:  8\n"
     ]
    },
    {
     "name": "stdout",
     "output_type": "stream",
     "text": [
      "*\n",
      "**\n",
      "***\n",
      "****\n",
      "*****\n",
      "******\n",
      "*******\n",
      "********\n"
     ]
    }
   ],
   "source": [
    "# Develop a program that prints the pattern of right-angled triangles using a `for` loop. Use ‘*’ to draw the\n",
    "# pattern\n",
    "\n",
    "def print_right_triangle(height):\n",
    "    for i in range(1, height + 1):\n",
    "        print('*' * i)\n",
    "\n",
    "height = int(input(\"Enter the height of the triangle: \"))\n",
    "\n",
    "print_right_triangle(height)\n"
   ]
  },
  {
   "cell_type": "code",
   "execution_count": 43,
   "id": "613db5e3-b543-457c-b3d7-d830f0add68f",
   "metadata": {},
   "outputs": [
    {
     "name": "stdin",
     "output_type": "stream",
     "text": [
      "Enter the first number:  12\n",
      "Enter the second number:  18\n"
     ]
    },
    {
     "name": "stdout",
     "output_type": "stream",
     "text": [
      "The greatest common divisor (GCD) of 12 and 18 is: 6\n"
     ]
    }
   ],
   "source": [
    "# Write a program to find the greatest common divisor (GCD) of two numbers using a `for` loop.\n",
    "\n",
    "def gcd(num1, num2):\n",
    "    min_num = min(num1, num2)\n",
    "    \n",
    "    gcd_value = 1\n",
    "    \n",
    "    for i in range(1, min_num + 1):\n",
    "        if num1 % i == 0 and num2 % i == 0:\n",
    "            gcd_value = i\n",
    "    \n",
    "    return gcd_value\n",
    "\n",
    "num1 = int(input(\"Enter the first number: \"))\n",
    "num2 = int(input(\"Enter the second number: \"))\n",
    "\n",
    "result_gcd = gcd(num1, num2)\n",
    "\n",
    "print(f\"The greatest common divisor (GCD) of {num1} and {num2} is: {result_gcd}\")\n"
   ]
  },
  {
   "cell_type": "code",
   "execution_count": 45,
   "id": "eedc6c61-853e-4edd-a16b-5e1f7ae7fec0",
   "metadata": {},
   "outputs": [
    {
     "name": "stdout",
     "output_type": "stream",
     "text": [
      "Original numbers: [123, 456, 789, 12, 34, 56]\n",
      "Sum of digits for each number: [6, 15, 24, 3, 7, 11]\n"
     ]
    }
   ],
   "source": [
    "# Create a program that calculates the sum of the digits of numbers in a list using a list comprehension.\n",
    "\n",
    "def sum_of_digits(number):\n",
    "    return sum(int(digit) for digit in str(number))\n",
    "\n",
    "numbers = [123, 456, 789, 12, 34, 56]\n",
    "\n",
    "sum_of_digits_list = [sum_of_digits(num) for num in numbers]\n",
    "\n",
    "print(\"Original numbers:\", numbers)\n",
    "print(\"Sum of digits for each number:\", sum_of_digits_list)\n"
   ]
  },
  {
   "cell_type": "code",
   "execution_count": 47,
   "id": "b1c5f3ad-38b2-45b8-8ed2-e9e348756702",
   "metadata": {},
   "outputs": [
    {
     "name": "stdin",
     "output_type": "stream",
     "text": [
      "Enter a number to find its prime factors:  8\n"
     ]
    },
    {
     "name": "stdout",
     "output_type": "stream",
     "text": [
      "Prime factors of 8: [2, 2, 2]\n"
     ]
    }
   ],
   "source": [
    "# Write a program to find the prime factors of a given number using a `for` loop and list comprehension.\n",
    "\n",
    "def prime_factors(number):\n",
    "    factors = []\n",
    "    \n",
    "    for i in range(2, number + 1):\n",
    "        while number % i == 0:\n",
    "            factors.append(i)\n",
    "            number //= i\n",
    "    \n",
    "    return factors\n",
    "\n",
    "number = int(input(\"Enter a number to find its prime factors: \"))\n",
    "\n",
    "factors = prime_factors(number)\n",
    "\n",
    "print(f\"Prime factors of {number}: {factors}\")\n"
   ]
  },
  {
   "cell_type": "code",
   "execution_count": 48,
   "id": "7073494b-2aa2-4792-8e30-e5a0a5883686",
   "metadata": {},
   "outputs": [
    {
     "name": "stdout",
     "output_type": "stream",
     "text": [
      "Original list: [1, 2, 3, 3, 4, 4, 5, 6, 6, 7]\n",
      "Unique elements: [1, 2, 3, 4, 5, 6, 7]\n"
     ]
    }
   ],
   "source": [
    "# Develop a program that extracts unique elements from a list and stores them in a new list using a list\n",
    "# comprehension.\n",
    "\n",
    "input_list = [1, 2, 3, 3, 4, 4, 5, 6, 6, 7]\n",
    "\n",
    "unique_elements = list(set([x for x in input_list]))\n",
    "\n",
    "print(\"Original list:\", input_list)\n",
    "print(\"Unique elements:\", unique_elements)\n"
   ]
  },
  {
   "cell_type": "code",
   "execution_count": 50,
   "id": "fe3c230d-673d-4e2e-bdaa-60833f7078a7",
   "metadata": {},
   "outputs": [
    {
     "name": "stdin",
     "output_type": "stream",
     "text": [
      "Enter the limit:  99\n"
     ]
    },
    {
     "name": "stdout",
     "output_type": "stream",
     "text": [
      "Palindromic numbers up to 99 : [0, 1, 2, 3, 4, 5, 6, 7, 8, 9, 11, 22, 33, 44, 55, 66, 77, 88, 99]\n"
     ]
    }
   ],
   "source": [
    "# Create a program that generates a list of all palindromic numbers up to a specified limit using a list\n",
    "# comprehension.\n",
    "\n",
    "def is_palindrome(number):\n",
    "    return str(number) == str(number)[::-1]\n",
    "\n",
    "limit = int(input(\"Enter the limit: \"))\n",
    "\n",
    "palindromic_numbers = [num for num in range(limit + 1) if is_palindrome(num)]\n",
    "\n",
    "print(\"Palindromic numbers up to\", limit, \":\", palindromic_numbers)\n"
   ]
  },
  {
   "cell_type": "code",
   "execution_count": 52,
   "id": "fcb046d9-4b10-4c49-944d-a824e662f7a5",
   "metadata": {},
   "outputs": [
    {
     "name": "stdout",
     "output_type": "stream",
     "text": [
      "Original nested list: [[1, 2, 3], [4, 8], [6, 7, 8]]\n",
      "Flattened list: [1, 2, 3, 4, 8, 6, 7, 8]\n"
     ]
    }
   ],
   "source": [
    "# Write a program to flatten a nested list using list comprehension.\n",
    "\n",
    "nested_list = [[1, 2, 3], [4, 8], [6, 7, 8]]\n",
    "\n",
    "flattened_list = [element for sublist in nested_list for element in sublist]\n",
    "\n",
    "print(\"Original nested list:\", nested_list)\n",
    "print(\"Flattened list:\", flattened_list)\n"
   ]
  },
  {
   "cell_type": "code",
   "execution_count": 53,
   "id": "ebdc64c5-57d2-4029-8168-af31ea3184f0",
   "metadata": {},
   "outputs": [
    {
     "name": "stdout",
     "output_type": "stream",
     "text": [
      "Original list: [1, 2, 3, 4, 5, 6, 7, 8, 9, 10]\n",
      "Sum of even numbers: 30\n",
      "Sum of odd numbers: 25\n"
     ]
    }
   ],
   "source": [
    "# Develop a program that computes the sum of even and odd numbers in a list separately using list\n",
    "# comprehension.\n",
    "# Program to compute the sum of even and odd numbers in a list separately using list comprehension\n",
    "\n",
    "# Sample list\n",
    "numbers = [1, 2, 3, 4, 5, 6, 7, 8, 9, 10]\n",
    "\n",
    "# Compute the sum of even and odd numbers separately using list comprehension\n",
    "sum_even = sum([num for num in numbers if num % 2 == 0])\n",
    "sum_odd = sum([num for num in numbers if num % 2 != 0])\n",
    "\n",
    "# Print the sum of even and odd numbers\n",
    "print(\"Original list:\", numbers)\n",
    "print(\"Sum of even numbers:\", sum_even)\n",
    "print(\"Sum of odd numbers:\", sum_odd)\n"
   ]
  },
  {
   "cell_type": "code",
   "execution_count": 55,
   "id": "c7a4ba89-0026-4613-9299-bd6055f92849",
   "metadata": {},
   "outputs": [
    {
     "name": "stdout",
     "output_type": "stream",
     "text": [
      "Squares of odd numbers between 1 and 10: [1, 9, 25, 49, 81, 121]\n"
     ]
    }
   ],
   "source": [
    "# Create a program that generates a list of squares of odd numbers between 1 and 10 using list\n",
    "# comprehension.\n",
    "\n",
    "squares_of_odd = [num ** 2 for num in range(1, 12) if num % 2 != 0]\n",
    "\n",
    "# Print the list of squares of odd numbers\n",
    "print(\"Squares of odd numbers between 1 and 10:\", squares_of_odd)\n"
   ]
  },
  {
   "cell_type": "code",
   "execution_count": 56,
   "id": "d28e2798-6a2d-40f2-aff9-6aef063d2ce5",
   "metadata": {},
   "outputs": [
    {
     "name": "stdout",
     "output_type": "stream",
     "text": [
      "Combined dictionary: {'a': 1, 'b': 2, 'c': 3}\n"
     ]
    }
   ],
   "source": [
    "# Write a program that combines two lists into a dictionary using list comprehension.\n",
    "\n",
    "keys = ['a', 'b', 'c']\n",
    "values = [1, 2, 3]\n",
    "\n",
    "combined_dict = {keys[i]: values[i] for i in range(min(len(keys), len(values)))}\n",
    "\n",
    "print(\"Combined dictionary:\", combined_dict)\n"
   ]
  },
  {
   "cell_type": "code",
   "execution_count": 58,
   "id": "433fc743-cf0c-4210-9033-60f70255595c",
   "metadata": {},
   "outputs": [
    {
     "name": "stdout",
     "output_type": "stream",
     "text": [
      "Original string: Hello, PWskills!\n",
      "Vowels in the string: ['e', 'o', 'i']\n"
     ]
    }
   ],
   "source": [
    "# Develop a program that extracts the vowels from a string and stores them in a list using list comprehension.\n",
    "\n",
    "input_string = \"Hello, PWskills!\"\n",
    "\n",
    "vowels = [char for char in input_string if char.lower() in 'aeiou']\n",
    "\n",
    "print(\"Original string:\", input_string)\n",
    "print(\"Vowels in the string:\", vowels)\n"
   ]
  },
  {
   "cell_type": "code",
   "execution_count": 59,
   "id": "a9d4c3ab-adcb-4d4d-baf0-e9440a201990",
   "metadata": {},
   "outputs": [
    {
     "name": "stdout",
     "output_type": "stream",
     "text": [
      "Original list: ['abc123', '456def', '789', 'xyz']\n",
      "List with only numeric characters: ['123', '456', '789', '']\n"
     ]
    }
   ],
   "source": [
    "# Create a program that removes all non-numeric characters from a list of strings using list comprehension.\n",
    "\n",
    "strings_list = ['abc123', '456def', '789', 'xyz']\n",
    "\n",
    "numeric_only = [''.join(char for char in string if char.isdigit()) for string in strings_list]\n",
    "\n",
    "print(\"Original list:\", strings_list)\n",
    "print(\"List with only numeric characters:\", numeric_only)\n"
   ]
  },
  {
   "cell_type": "code",
   "execution_count": 60,
   "id": "8bab3961-e3dd-4763-a5c6-54a0cbd8300c",
   "metadata": {},
   "outputs": [
    {
     "name": "stdin",
     "output_type": "stream",
     "text": [
      "Enter the limit:  10\n"
     ]
    },
    {
     "name": "stdout",
     "output_type": "stream",
     "text": [
      "Prime numbers up to 10 : [2, 3, 5, 7]\n"
     ]
    }
   ],
   "source": [
    "# Write a program to generate a list of prime numbers using the Sieve of Eratosthenes algorithm and list\n",
    "# comprehension.\n",
    "\n",
    "def sieve_of_eratosthenes(limit):\n",
    "    sieve = [True] * (limit + 1)\n",
    "    sieve[0] = sieve[1] = False\n",
    "    \n",
    "    for i in range(2, int(limit ** 0.5) + 1):\n",
    "        if sieve[i]:\n",
    "            sieve[i * i : limit + 1 : i] = [False] * len(range(i * i, limit + 1, i))\n",
    "    \n",
    "    return [num for num, is_prime in enumerate(sieve) if is_prime]\n",
    "\n",
    "limit = int(input(\"Enter the limit: \"))\n",
    "\n",
    "prime_numbers = sieve_of_eratosthenes(limit)\n",
    "\n",
    "print(\"Prime numbers up to\", limit, \":\", prime_numbers)\n"
   ]
  },
  {
   "cell_type": "code",
   "execution_count": 62,
   "id": "79492286-fb6f-42ed-9503-904fcad414f4",
   "metadata": {},
   "outputs": [
    {
     "name": "stdin",
     "output_type": "stream",
     "text": [
      "Enter the limit:  20\n"
     ]
    },
    {
     "name": "stdout",
     "output_type": "stream",
     "text": [
      "Pythagorean triplets up to 20 : [(3, 4, 5), (5, 12, 13), (6, 8, 10), (8, 15, 17), (9, 12, 15), (12, 16, 20)]\n"
     ]
    }
   ],
   "source": [
    "# Create a program that generates a list of all Pythagorean triplets up to a specified limit using list\n",
    "# comprehension.\n",
    "\n",
    "def pythagorean_triplets(limit):\n",
    "    return [(a, b, c) for a in range(1, limit + 1) \n",
    "                      for b in range(a, limit + 1) \n",
    "                      for c in range(b, limit + 1) \n",
    "                      if a**2 + b**2 == c**2]\n",
    "\n",
    "limit = int(input(\"Enter the limit: \"))\n",
    "\n",
    "triplets = pythagorean_triplets(limit)\n",
    "\n",
    "print(\"Pythagorean triplets up to\", limit, \":\", triplets)\n"
   ]
  },
  {
   "cell_type": "code",
   "execution_count": 63,
   "id": "176c41d2-c5e6-4095-9598-b087bb2a05c3",
   "metadata": {},
   "outputs": [
    {
     "name": "stdout",
     "output_type": "stream",
     "text": [
      "All possible combinations of ['a', 'b', 'c'] and [1, 2, 3] : [('a', 1), ('a', 2), ('a', 3), ('b', 1), ('b', 2), ('b', 3), ('c', 1), ('c', 2), ('c', 3)]\n"
     ]
    }
   ],
   "source": [
    "# Develop a program that generates a list of all possible combinations of two lists using list comprehension.\n",
    "\n",
    "list1 = ['a', 'b', 'c']\n",
    "list2 = [1, 2, 3]\n",
    "\n",
    "combinations = [(x, y) for x in list1 for y in list2]\n",
    "\n",
    "print(\"All possible combinations of\", list1, \"and\", list2, \":\", combinations)\n"
   ]
  },
  {
   "cell_type": "code",
   "execution_count": 65,
   "id": "f3a82e26-5e8b-4c41-bcd6-e4813be6e0bf",
   "metadata": {},
   "outputs": [
    {
     "name": "stdout",
     "output_type": "stream",
     "text": [
      "List of numbers: [1, 2, 3, 4, 5, 6, 7, 8, 9, 10]\n",
      "Mean: 5.5\n",
      "Median: 5.5\n",
      "Mode: 1\n"
     ]
    }
   ],
   "source": [
    "# Write a program that calculates the mean, median, and mode of a list of numbers using list\n",
    "# comprehension.\n",
    "from statistics import mean, median, mode\n",
    "\n",
    "# Sample list of numbers\n",
    "numbers = [1, 2, 3, 4, 5, 6, 7, 8, 9, 10]\n",
    "\n",
    "# Calculate mean, median, and mode\n",
    "mean_value = mean(numbers)\n",
    "median_value = median(numbers)\n",
    "mode_value = mode(numbers)\n",
    "\n",
    "# Print the calculated statistics\n",
    "print(\"List of numbers:\", numbers)\n",
    "print(\"Mean:\", mean_value)\n",
    "print(\"Median:\", median_value)\n",
    "print(\"Mode:\", mode_value)\n"
   ]
  },
  {
   "cell_type": "code",
   "execution_count": 69,
   "id": "37e3a394-4ee7-49ae-978d-eac10929ab3c",
   "metadata": {},
   "outputs": [
    {
     "name": "stdin",
     "output_type": "stream",
     "text": [
      "Enter the number of rows for Pascal's triangle:  7\n"
     ]
    },
    {
     "name": "stdout",
     "output_type": "stream",
     "text": [
      "Pascal's triangle with 7 rows:\n",
      "      1       \n",
      "     1 1      \n",
      "    1 2 1     \n",
      "   1 3 3 1    \n",
      "  1 4 6 4 1   \n",
      "1 5 10 10 5 1 \n",
      "1 6 15 20 15 6 1\n"
     ]
    }
   ],
   "source": [
    "# Create a program that generates Pascal's triangle up to a specified number of rows using list\n",
    "# comprehension.\n",
    "def generate_pascals_triangle(rows):\n",
    "    triangle = [[1]]\n",
    "    for i in range(1, rows):\n",
    "        row = [1] + [triangle[i-1][j] + triangle[i-1][j+1] for j in range(len(triangle[i-1]) - 1)] + [1]\n",
    "        triangle.append(row)\n",
    "    return triangle\n",
    "\n",
    "rows = int(input(\"Enter the number of rows for Pascal's triangle: \"))\n",
    "\n",
    "pascals_triangle = generate_pascals_triangle(rows)\n",
    "\n",
    "print(\"Pascal's triangle with\", rows, \"rows:\")\n",
    "for row in pascals_triangle:\n",
    "    print(' '.join(map(str, row)).center(rows*2))\n"
   ]
  },
  {
   "cell_type": "code",
   "execution_count": 72,
   "id": "892127bb-9027-49d9-b49f-fd402d01e391",
   "metadata": {},
   "outputs": [
    {
     "name": "stdout",
     "output_type": "stream",
     "text": [
      "Factorial and sum of digits for numbers from 1 to 5:\n",
      "Number: 1, Factorial: 1, Sum of digits: 1\n",
      "Number: 2, Factorial: 2, Sum of digits: 2\n",
      "Number: 3, Factorial: 6, Sum of digits: 6\n",
      "Number: 4, Factorial: 24, Sum of digits: 6\n"
     ]
    }
   ],
   "source": [
    "# Develop a program that calculates the sum of the digits of a factorial of numbers from 1 to 5 using list\n",
    "# comprehension.\n",
    "def factorial(n):\n",
    "    if n == 0:\n",
    "        return 1\n",
    "    else:\n",
    "        return n * factorial(n-1)\n",
    "\n",
    "def sum_of_digits(number):\n",
    "    return sum(int(digit) for digit in str(number))\n",
    "\n",
    "results = [(n, factorial(n), sum_of_digits(factorial(n))) for n in range(1, 5)]\n",
    "\n",
    "print(\"Factorial and sum of digits for numbers from 1 to 5:\")\n",
    "for n, fact, sum_digits in results:\n",
    "    print(f\"Number: {n}, Factorial: {fact}, Sum of digits: {sum_digits}\")\n"
   ]
  },
  {
   "cell_type": "code",
   "execution_count": 76,
   "id": "903af134-c57a-4f14-9588-94dc5f40ba55",
   "metadata": {},
   "outputs": [
    {
     "name": "stdout",
     "output_type": "stream",
     "text": [
      "Longest word in the sentence: learning\n"
     ]
    }
   ],
   "source": [
    "# Write a program that finds the longest word in a sentence using list comprehension.\n",
    "\n",
    "sentence = \"PWskill is very best learning platform\"\n",
    "\n",
    "longest_word = max((word.strip(\".,?!\") for word in sentence.split()), key=len)\n",
    "\n",
    "print(\"Longest word in the sentence:\", longest_word)\n"
   ]
  },
  {
   "cell_type": "code",
   "execution_count": 80,
   "id": "07836020-f90c-4d5f-b8eb-1873932e01bf",
   "metadata": {},
   "outputs": [
    {
     "name": "stdout",
     "output_type": "stream",
     "text": [
      "Original list: ['hello', 'Pwskill', 'python', 'programming', 'openai']\n",
      "Filtered list with more than three vowels: ['openai']\n"
     ]
    }
   ],
   "source": [
    "# Create a program that filters a list of strings to include only those with more than three vowels using list\n",
    "# comprehension.\n",
    "\n",
    "strings_list = [\"hello\", \"Pwskill\", \"python\", \"programming\", \"openai\"]\n",
    "\n",
    "def count_vowels(string):\n",
    "    return sum(1 for char in string if char.lower() in 'aeiou')\n",
    "\n",
    "filtered_list = [string for string in strings_list if count_vowels(string) > 3]\n",
    "\n",
    "print(\"Original list:\", strings_list)\n",
    "print(\"Filtered list with more than three vowels:\", filtered_list)\n"
   ]
  },
  {
   "cell_type": "code",
   "execution_count": 84,
   "id": "382a8670-3fae-49d0-8530-6f21b8438319",
   "metadata": {},
   "outputs": [
    {
     "name": "stdout",
     "output_type": "stream",
     "text": [
      "Total sum of digits from 1 to 1000: 13500\n"
     ]
    }
   ],
   "source": [
    "# Develop a program that calculates the sum of the digits of numbers from 1 to 1000 using list\n",
    "# comprehension.\n",
    "def sum_of_digits(number):\n",
    "    return sum(int(digit) for digit in str(number))\n",
    "\n",
    "sum_of_digits_list = [sum_of_digits(num) for num in range(1, 1000)]\n",
    "\n",
    "total_sum = sum(sum_of_digits_list)\n",
    "\n",
    "print(\"Total sum of digits from 1 to 1000:\", total_sum)\n"
   ]
  },
  {
   "cell_type": "code",
   "execution_count": 88,
   "id": "be050d80-d8e5-4aaf-8895-da65097f971a",
   "metadata": {},
   "outputs": [
    {
     "name": "stdout",
     "output_type": "stream",
     "text": [
      "Prime palindromic numbers up to 10: [2, 3, 5, 7, 11]\n"
     ]
    }
   ],
   "source": [
    "# Write a program that generates a list of prime palindromic numbers using list comprehension.\n",
    "def is_prime(n):\n",
    "    if n <= 1:\n",
    "        return False\n",
    "    if n <= 3:\n",
    "        return True\n",
    "    if n % 2 == 0 or n % 3 == 0:\n",
    "        return False\n",
    "    i = 5\n",
    "    while i * i <= n:\n",
    "        if n % i == 0 or n % (i + 2) == 0:\n",
    "            return False\n",
    "        i += 6\n",
    "    return True\n",
    "\n",
    "def is_palindrome(n):\n",
    "    return str(n) == str(n)[::-1]\n",
    "\n",
    "prime_palindromic_numbers = [num for num in range(1, 99) if is_prime(num) and is_palindrome(num)]\n",
    "\n",
    "print(\"Prime palindromic numbers up to 10:\", prime_palindromic_numbers)\n"
   ]
  },
  {
   "cell_type": "code",
   "execution_count": null,
   "id": "88c04295-8856-40ef-a233-1b984f69a89a",
   "metadata": {},
   "outputs": [],
   "source": []
  }
 ],
 "metadata": {
  "kernelspec": {
   "display_name": "Python 3 (ipykernel)",
   "language": "python",
   "name": "python3"
  },
  "language_info": {
   "codemirror_mode": {
    "name": "ipython",
    "version": 3
   },
   "file_extension": ".py",
   "mimetype": "text/x-python",
   "name": "python",
   "nbconvert_exporter": "python",
   "pygments_lexer": "ipython3",
   "version": "3.10.8"
  }
 },
 "nbformat": 4,
 "nbformat_minor": 5
}
